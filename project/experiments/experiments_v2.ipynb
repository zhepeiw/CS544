{
 "cells": [
  {
   "cell_type": "code",
   "execution_count": null,
   "metadata": {},
   "outputs": [],
   "source": [
    "import sys, os\n",
    "sys.path.append('../')\n",
    "\n",
    "import numpy as np\n",
    "import data_loader.data_loader as data_loader\n",
    "from argparse import Namespace\n",
    "import matplotlib.pyplot as plt\n",
    "import maxflow\n",
    "import IPython.display as ipd\n",
    "from librosa.core import stft, istft"
   ]
  },
  {
   "cell_type": "code",
   "execution_count": null,
   "metadata": {},
   "outputs": [],
   "source": [
    "default_parameters = Namespace(batch_size=1, n_jobs=4, get_top=None)\n",
    "default_parameters.return_items = ['mixture_wav',\n",
    "                                   'clean_sources_wavs',\n",
    "                                   'rpd']\n",
    "default_parameters.input_dataset_p = '/mnt/data/CS544_data/timit_5400_1800_512_2_fm_random_taus_delays/val'\n",
    "data_gen = data_loader.get_numpy_data_generator(default_parameters)"
   ]
  },
  {
   "cell_type": "code",
   "execution_count": null,
   "metadata": {},
   "outputs": [],
   "source": [
    "def get_normalized_spectrogram(wav):\n",
    "    stft_representation = (stft(wav,\n",
    "                                 n_fft=512,\n",
    "                                 win_length=512,\n",
    "                                 hop_length=128))[::-1, :]\n",
    "    \n",
    "    # normalize the spectrogram values \n",
    "    stft_representation = (stft_representation - np.mean(stft_representation)) / (\n",
    "                           np.std(stft_representation) + 10e-9)\n",
    "\n",
    "    spec = np.abs(stft_representation)\n",
    "    return stft_representation, spec**0.2"
   ]
  },
  {
   "cell_type": "code",
   "execution_count": null,
   "metadata": {},
   "outputs": [],
   "source": [
    "data_gen = iter(data_gen)\n",
    "batch_data_list = next(data_gen)\n",
    "numpy_data_list = data_loader.convert_to_numpy(batch_data_list)\n",
    "mix_wav, clean_wavs, phase_diff = numpy_data_list\n",
    "s1_clean, s2_clean = clean_wavs[0], clean_wavs[1]\n",
    "phase_diff = (np.clip(phase_diff, -2, 2) / 4 + 0.5)[::-1, :]\n",
    "\n",
    "mix_stft, mix_spec = get_normalized_spectrogram(mix_wav)\n",
    "s1_stft, s1_spec = get_normalized_spectrogram(s1_clean)\n",
    "s2_stft, s2_spec = get_normalized_spectrogram(s2_clean)\n",
    "\n",
    "spec = np.abs(mix_stft)**0.2\n",
    "plt.title(\"Phase Difference\")\n",
    "plt.imshow(phase_diff)\n",
    "plt.colorbar()\n",
    "\n",
    "plt.figure()\n",
    "plt.title(\"Mixture Spectrogram\")\n",
    "plt.imshow(mix_spec, cmap='coolwarm')\n",
    "plt.colorbar()"
   ]
  },
  {
   "cell_type": "code",
   "execution_count": null,
   "metadata": {},
   "outputs": [],
   "source": [
    "# plt.figure()\n",
    "# plt.title(\"Mixture Superposition Spectrogram\")\n",
    "# im1 = plt.imshow(s1_spec, cmap='Reds', interpolation='nearest', alpha=0.99)\n",
    "# im2 = plt.imshow(s2_spec, cmap='Blues', interpolation='nearest', alpha = 0.8)\n",
    "# # plt.colorbar()\n",
    "# plt.show()\n",
    "\n",
    "\n",
    "fig,ax = plt.subplots()\n",
    "# plt.title(\"Superposition of Sources Spectrograms\")\n",
    "pa = ax.imshow(s1_spec,interpolation='nearest',cmap='Reds', alpha=0.9)\n",
    "cba = plt.colorbar(pa)\n",
    "pb = ax.imshow(s2_spec,interpolation='nearest',cmap='Blues', alpha=0.6)\n",
    "cbb = plt.colorbar(pb)\n",
    "# plt.xlabel('Time')\n",
    "# plt.ylabel('Depth')\n",
    "cba.set_label('Source 1 Activation')\n",
    "cbb.set_label('Source 2 Activation')\n",
    "plt.show()"
   ]
  },
  {
   "cell_type": "code",
   "execution_count": null,
   "metadata": {},
   "outputs": [],
   "source": [
    "def build_graph_from_img(spec, phase_diff, horiz_weight=1, vert_weight=1):\n",
    "    height, width = phase_diff.shape\n",
    "    g = maxflow.Graph[float](height*width, height*width*2)\n",
    "    g = maxflow.Graph[float]()\n",
    "\n",
    "    \n",
    "    nodeids = g.add_grid_nodes(phase_diff.shape)\n",
    "    horiz_diff = np.abs(phase_diff[:, :-1] - phase_diff[:, 1:])\n",
    "    vert_diff = np.abs(phase_diff[:-1] - phase_diff[1:])\n",
    "    horiz_diff = np.concatenate([horiz_diff, np.zeros((height, 1))], axis=1)\n",
    "    vert_diff = np.concatenate([vert_diff, np.zeros((1, width))], axis=0)\n",
    "    horiz_diff = horiz_diff.reshape(-1)\n",
    "    vert_diff = vert_diff.reshape(-1)\n",
    "    \n",
    "    for row in nodeids:\n",
    "        for nodeid in row:\n",
    "            if nodeid % width != width - 1:\n",
    "                weight = np.exp(-horiz_diff[nodeid]**2)\n",
    "                weight *= horiz_weight\n",
    "                g.add_edge(nodeid, nodeid + 1, weight, weight)\n",
    "                \n",
    "            if nodeid < width * (height - 1):\n",
    "                weight = np.exp(-vert_diff[nodeid]**2)\n",
    "                weight *= vert_weight\n",
    "                g.add_edge(nodeid, nodeid + width, weight, weight)\n",
    "                \n",
    "    # make terminal edges\n",
    "    g.add_grid_tedges(nodeids, spec, np.max(spec) - spec)\n",
    "    return (g, nodeids) "
   ]
  },
  {
   "cell_type": "code",
   "execution_count": null,
   "metadata": {},
   "outputs": [],
   "source": [
    "g, nodeids = build_graph_from_img(phase_diff, mix_spec, horiz_weight=0.000, vert_weight=0.00)\n",
    "g.maxflow()\n",
    "mask = g.get_grid_segments(nodeids)\n",
    "plt.imshow(mask, cmap='gray_r')"
   ]
  },
  {
   "cell_type": "code",
   "execution_count": null,
   "metadata": {},
   "outputs": [],
   "source": [
    "def sisnr(s_pred, s, eps=10e-9):\n",
    "    s_pred -= s_pred.mean()\n",
    "    s -= s.mean()\n",
    "#     s_pred /= (s_pred.std() + eps)\n",
    "#     s /= (s.std() + eps)\n",
    "    if not len(s_pred) == len(s):\n",
    "        min_len = int(min(len(s), len(s_pred)))\n",
    "        s = s[0:min_len]\n",
    "        s_pred = s_pred[:min_len]\n",
    "    coef = np.dot(s, s_pred) / (np.dot(s, s) + 10e-9) \n",
    "    s_target = coef * s \n",
    "    e_noise = s_pred - s_target \n",
    "    sisnr = 10*np.log10(np.dot(s_target, s_target) / \n",
    "                        (np.dot(e_noise, e_noise)+10e-9))\n",
    "    return sisnr\n",
    "\n",
    "def compute_sisnr_and_return_pair(s_recon, clean_sources, eps=10e-9):\n",
    "    all_sisdrs = [(sisnr(s_recon, clean_sources[i], eps=eps), clean_sources[i]) \n",
    "                  for i in range(clean_sources.shape[0])]\n",
    "    return sorted(all_sisdrs, key = lambda x: x[0])[-1]\n",
    "    "
   ]
  },
  {
   "cell_type": "code",
   "execution_count": null,
   "metadata": {},
   "outputs": [],
   "source": [
    "mix_stft = (stft(mix_wav,\n",
    "                 n_fft=512,\n",
    "                 win_length=512,\n",
    "                 hop_length=128))\n",
    "\n",
    "s1_estimate = istft(mix_stft * mask[::-1, :],\n",
    "                    win_length=512,\n",
    "                    hop_length=128)\n",
    "s2_estimate = istft(mix_stft * (1. - mask[::-1, :]),\n",
    "                    win_length=512,\n",
    "                    hop_length=128)\n",
    "\n",
    "s1_sisnr, s1_clean = compute_sisnr_and_return_pair(s1_estimate, clean_wavs)\n",
    "s2_sisnr, s2_clean = compute_sisnr_and_return_pair(s2_estimate, clean_wavs)\n",
    "\n",
    "\n",
    "print(\"Initial Mixture\")\n",
    "ipd.display(ipd.Audio(mix_wav, rate=16000))\n",
    "\n",
    "print(\"Source 1 Reconstruction: SISDR {}\".format(s1_sisnr))\n",
    "ipd.display(ipd.Audio(s1_estimate, rate=16000))\n",
    "\n",
    "print(\"Source 1 Clean\")\n",
    "ipd.display(ipd.Audio(s1_clean, rate=16000))\n",
    "\n",
    "print(\"Source 2 Reconstruction: SISDR {}\".format(s2_sisnr))\n",
    "ipd.display(ipd.Audio(s2_estimate, rate=16000))\n",
    "\n",
    "print(\"Source 2 Clean\")\n",
    "ipd.display(ipd.Audio(s2_clean, rate=16000))"
   ]
  },
  {
   "cell_type": "code",
   "execution_count": null,
   "metadata": {},
   "outputs": [],
   "source": []
  },
  {
   "cell_type": "code",
   "execution_count": null,
   "metadata": {},
   "outputs": [],
   "source": []
  }
 ],
 "metadata": {
  "kernelspec": {
   "display_name": "Python 3",
   "language": "python",
   "name": "python3"
  },
  "language_info": {
   "codemirror_mode": {
    "name": "ipython",
    "version": 3
   },
   "file_extension": ".py",
   "mimetype": "text/x-python",
   "name": "python",
   "nbconvert_exporter": "python",
   "pygments_lexer": "ipython3",
   "version": "3.5.2"
  }
 },
 "nbformat": 4,
 "nbformat_minor": 2
}
